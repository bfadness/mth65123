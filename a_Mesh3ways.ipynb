{
 "cells": [
  {
   "cell_type": "markdown",
   "id": "13bbfc44",
   "metadata": {},
   "source": [
    "# Three ways for geometric modeling in Netgen"
   ]
  },
  {
   "cell_type": "markdown",
   "id": "4366e517",
   "metadata": {},
   "source": [
    "## Spline geometry\n",
    "\n",
    "This is the oldest way, now made compatible with webgui.\n"
   ]
  },
  {
   "cell_type": "code",
   "execution_count": null,
   "id": "cd53f68c",
   "metadata": {},
   "outputs": [],
   "source": [
    "import ngsolve as ng\n",
    "from ngsolve.webgui import Draw\n",
    "from netgen.geom2d import SplineGeometry\n",
    "\n",
    "def CreateGeom():\n",
    "    geo = SplineGeometry()\n",
    "\n",
    "    #    3-------2------5\n",
    "    #    |       |      |\n",
    "    #    |   1   |      |\n",
    "    #    |       |  2   |\n",
    "    #    |       |      |\n",
    "    #    0-------1------4\n",
    "\n",
    "    #        0        1        2        3       4      5\n",
    "    pts = [(-3, 0), (0, 0), (0, 2), (-3, 2), (3, 0), (3, 2)]\n",
    "    pn = [geo.AppendPoint(*p) for p in pts]\n",
    "\n",
    "    #     from, to, name,  left, right\n",
    "    lns = [(0,  1,  'bot', 1,    0), \n",
    "           (1,  2,  'mid', 1,    2), \n",
    "           (2,  3,  'top', 1,    0),\n",
    "           (3,  0,  'lft', 1,    0),\n",
    "           (1,  4,  'bot', 2,    0),\n",
    "           (4,  5,  'rgt', 2,    0),\n",
    "           (5,  2,  'top', 2,    0)\n",
    "          ]\n",
    "    for frm, to, name, left, right in lns:\n",
    "        geo.Append([\"line\", pn[frm], pn[to]], \n",
    "                   bc=name, leftdomain=left, rightdomain=right)\n",
    "    geo.SetMaterial(1, \"lftbar\")\n",
    "    geo.SetMaterial(2, \"rgtbar\")\n",
    "    return geo"
   ]
  },
  {
   "cell_type": "code",
   "execution_count": null,
   "id": "cf7f78c8",
   "metadata": {},
   "outputs": [],
   "source": [
    "mesh = ng.Mesh(CreateGeom().GenerateMesh(maxh=1/4))\n",
    "Draw(mesh);"
   ]
  },
  {
   "cell_type": "markdown",
   "id": "9cb9c400",
   "metadata": {},
   "source": [
    "Often we need to know the orientation of the normal vector on the boundaries. Below, we check that the normal vector obtained from NGSolve's `specialcf.normal` is the unit outward pointing normal on the  boundaries of the domains  created as `SplineGeometry` objects."
   ]
  },
  {
   "cell_type": "code",
   "execution_count": null,
   "id": "8c42a876",
   "metadata": {},
   "outputs": [],
   "source": [
    "def norientation(mesh):\n",
    "    \"\"\"Use a boundary interpolation to view the normal orientation\"\"\"\n",
    "    R = ng.HDiv(mesh, order=5, RT=True, dirichlet='.*')\n",
    "    r = ng.GridFunction(R)\n",
    "    n = ng.specialcf.normal(mesh.dim)\n",
    "    r.Set(n, ng.BND)\n",
    "    Draw(r, mesh, vectors={'grid_size': 50});"
   ]
  },
  {
   "cell_type": "code",
   "execution_count": null,
   "id": "aa3f09a4",
   "metadata": {},
   "outputs": [],
   "source": [
    "norientation(mesh)"
   ]
  },
  {
   "cell_type": "markdown",
   "id": "88fecea4",
   "metadata": {},
   "source": [
    "## Constructive Solid Geometry (CSG)\n",
    "\n",
    "CSG models can be built in both 2D and 3D. See the NGSolve documentation for all the available primitives. Here is a 2D example.\n"
   ]
  },
  {
   "cell_type": "code",
   "execution_count": null,
   "id": "689e2a57",
   "metadata": {},
   "outputs": [],
   "source": [
    "import ngsolve as ng\n",
    "from ngsolve.webgui import Draw\n",
    "from netgen.geom2d import CSG2d, Rectangle\n",
    "\n",
    "def CreateGeomCSG():\n",
    "    geo = CSG2d()\n",
    "    Rlft = Rectangle(pmin=(-3, 0), pmax=(0, 2), mat='lftbar', \n",
    "                     bottom='bot', top='top', left='lft', right='mid')\n",
    "    Rrgt = Rectangle(pmin=(0, 0),  pmax=(3, 2), mat='rgtbar',\n",
    "                     bottom='bot', top='top', left='mid', right='rgt')\n",
    "    geo.Add(Rlft)\n",
    "    geo.Add(Rrgt)\n",
    "    return geo"
   ]
  },
  {
   "cell_type": "code",
   "execution_count": null,
   "id": "d93d6ecc",
   "metadata": {},
   "outputs": [],
   "source": [
    "meshCSG = ng.Mesh(CreateGeomCSG().GenerateMesh(maxh=1/4))\n",
    "norientation(meshCSG)"
   ]
  },
  {
   "cell_type": "markdown",
   "id": "6edbeaad",
   "metadata": {},
   "source": [
    "Note how the orientation of the normal on the left edge is not outward in this CSG2D object. (The NGSolve development team is aware of this. This may or may not change in the future, so users have to be wary to not make assumptions on the direction of the normal.)"
   ]
  },
  {
   "cell_type": "markdown",
   "id": "ebb72d60",
   "metadata": {},
   "source": [
    "## OpenCascade (OCC)\n",
    "\n",
    "This is the newest and the most powerful method. It allows one to view geometry objects even before they are meshed. However, unlike the the other two methods, this option requires you to compile NGSolve after installing the free [OpenCascade](https://www.opencascade.com/) software and using it as a dependency.  I encourage you to do so, recompiling your installation if necessary."
   ]
  },
  {
   "cell_type": "code",
   "execution_count": null,
   "id": "d9b3461e",
   "metadata": {},
   "outputs": [],
   "source": [
    "import ngsolve as ng\n",
    "from ngsolve.webgui import Draw\n",
    "from netgen.occ import MoveTo, X, Y, Rectangle, Glue, OCCGeometry\n",
    "from netgen.webgui import Draw as DrawGeo\n",
    "\n",
    "def CreateGeomOCC():\n",
    "    rgtbar = Rectangle(3, 2).Face()\n",
    "    lftbar = MoveTo(-3, 0).Rectangle(3, 2).Face()\n",
    "    lftbar.faces.name = 'lftbar'\n",
    "    rgtbar.faces.name = 'rgtbar'\n",
    "    lftbar.edges.Min(X).name = 'lft'\n",
    "    lftbar.edges.Min(Y).name = 'bot'\n",
    "    lftbar.edges.Max(Y).name = 'top'\n",
    "    rgtbar.edges.Max(X).name = 'rgt'\n",
    "    rgtbar.edges.Min(Y).name = 'bot'\n",
    "    rgtbar.edges.Max(Y).name = 'top'\n",
    "    bar = Glue([lftbar, rgtbar])\n",
    "    return bar\n",
    "\n",
    "geo = CreateGeomOCC()\n",
    "DrawGeo(geo);"
   ]
  },
  {
   "cell_type": "code",
   "execution_count": null,
   "id": "775db258",
   "metadata": {},
   "outputs": [],
   "source": [
    "g = OCCGeometry(CreateGeomOCC(), dim=2)\n",
    "meshOCC = ng.Mesh(g.GenerateMesh(maxh=1/4))\n",
    "norientation(meshOCC)"
   ]
  }
 ],
 "metadata": {
  "kernelspec": {
   "display_name": "Python 3",
   "language": "python",
   "name": "python3"
  },
  "language_info": {
   "codemirror_mode": {
    "name": "ipython",
    "version": 3
   },
   "file_extension": ".py",
   "mimetype": "text/x-python",
   "name": "python",
   "nbconvert_exporter": "python",
   "pygments_lexer": "ipython3",
   "version": "3.8.0"
  }
 },
 "nbformat": 4,
 "nbformat_minor": 5
}

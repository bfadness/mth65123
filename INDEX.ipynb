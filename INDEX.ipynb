{
 "cells": [
  {
   "cell_type": "markdown",
   "id": "2f0786bb",
   "metadata": {},
   "source": [
    "# Solving PDEs  in Practice\n",
    "\n",
    "####  Jay Gopalakrishnan\n"
   ]
  },
  {
   "cell_type": "markdown",
   "id": "b54a72f8",
   "metadata": {},
   "source": [
    "\n",
    "## Notebooks\n",
    "\n",
    "- [Finite differences in one dimension](FiniteDifferences1D.ipynb)\n"
   ]
  },
  {
   "cell_type": "markdown",
   "id": "d5f7e9a3",
   "metadata": {},
   "source": [
    "## Exercises"
   ]
  }
 ],
 "metadata": {
  "kernelspec": {
   "display_name": "Python 3 (ipykernel)",
   "language": "python",
   "name": "python3"
  },
  "language_info": {
   "codemirror_mode": {
    "name": "ipython",
    "version": 3
   },
   "file_extension": ".py",
   "mimetype": "text/x-python",
   "name": "python",
   "nbconvert_exporter": "python",
   "pygments_lexer": "ipython3",
   "version": "3.9.6"
  }
 },
 "nbformat": 4,
 "nbformat_minor": 5
}

{
 "cells": [
  {
   "cell_type": "markdown",
   "id": "2f0786bb",
   "metadata": {},
   "source": [
    "# Solving PDEs  in Practice\n",
    "\n",
    "####  Jay Gopalakrishnan\n"
   ]
  },
  {
   "cell_type": "markdown",
   "id": "b54a72f8",
   "metadata": {},
   "source": [
    "\n",
    "## Notebooks\n",
    "\n",
    "- [Finite differences in one dimension](FiniteDifferences1D.ipynb)\n",
    "- External material introducing finite elements:\n",
    "    - [Schöberl's lecture: Solving the Poisson equation](https://mybinder.org/v2/gh/jayggg/ngspybinderenv.git/master?urlpath=git-pull?repo=https://github.com/JSchoeberl/iFEM%26branch=master%26subpath=primal/first_example.ipynb) \n",
    "    - [NGSolve iTutorial Unit 1.1 (html): First NGSolve example](https://ngsolve.org/docu/nightly/i-tutorials/unit-1.1-poisson/poisson.html)\n",
    "    - [NGSolve iTutorial Unit 1.3 (html): Dirichlet boundary conditions](https://ngsolve.org/docu/nightly/i-tutorials/unit-1.3-dirichlet/dirichlet.html)"
   ]
  },
  {
   "cell_type": "markdown",
   "id": "d5f7e9a3",
   "metadata": {},
   "source": [
    "## Exercises"
   ]
  }
 ],
 "metadata": {
  "kernelspec": {
   "display_name": "Python 3 (ipykernel)",
   "language": "python",
   "name": "python3"
  },
  "language_info": {
   "codemirror_mode": {
    "name": "ipython",
    "version": 3
   },
   "file_extension": ".py",
   "mimetype": "text/x-python",
   "name": "python",
   "nbconvert_exporter": "python",
   "pygments_lexer": "ipython3",
   "version": "3.9.6"
  }
 },
 "nbformat": 4,
 "nbformat_minor": 5
}

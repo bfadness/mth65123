{
 "cells": [
  {
   "cell_type": "markdown",
   "metadata": {},
   "source": [
    "# Working with finite elements\n",
    "\n",
    "### MTH 651 Fall 2021\n",
    "\n",
    "#### [Jay Gopalakrishnan](http://web.pdx.edu/~gjay/)\n",
    "\n",
    "\n",
    "<hr>\n",
    "    \n"
   ]
  },
  {
   "cell_type": "markdown",
   "metadata": {},
   "source": [
    "## Lecture Notebooks\n",
    "\n",
    "These notebooks are designed as class activities to obtain practical experience in numerically  solving partial differential equations and are intended to accompany (not replace) theory lectures."
   ]
  },
  {
   "cell_type": "markdown",
   "metadata": {},
   "source": [
    "- 01 [Finite differences in one dimension](FiniteDifferences1D.ipynb)\n",
    "- 02 [Finite elements in one dimension](FEM1D.ipynb)\n",
    "- --- [NGSolve iTutorials](https://mybinder.org/v2/gh/jayggg/ngspybinderenv.git/master?urlpath=git-pull?repo=https://github.com/NGSolve/ngsolve%26branch=master%26subpath=docs/i-tutorials/index.ipynb): [1.1](https://ngsolve.org/docu/nightly/i-tutorials/unit-1.1-poisson/poisson.html), [1.2](https://ngsolve.org/docu/nightly/i-tutorials/unit-1.2-coefficient/coefficientfunction.html), [1.3](https://ngsolve.org/docu/nightly/i-tutorials/unit-1.3-dirichlet/dirichlet.html), [1.4](https://ngsolve.org/docu/nightly/i-tutorials/unit-1.4-staticcond/staticcond.html), [1.5](https://ngsolve.org/docu/nightly/i-tutorials/unit-1.5-subdomains/subdomains.html)\n",
    "- 03 [Higher order approximations](HigherOrderConvergence.ipynb)\n",
    "- 04 [Vector elements & Betti numbers](VectorFE.ipynb)\n",
    "- 05 [Mixed method & conservation](Mixed.ipynb)\n",
    "- 06 [Transverse electric fields](TEfield2DCavity.ipynb)\n",
    "- 07 [Electrostatics & Magnetostatics](EMStatics.ipynb)"
   ]
  },
  {
   "cell_type": "markdown",
   "metadata": {},
   "source": [
    "<hr>"
   ]
  },
  {
   "cell_type": "markdown",
   "metadata": {},
   "source": [
    "## Appendix\n",
    "\n",
    "- [Three ways to geometric models](a_Mesh3ways.ipynb)"
   ]
  },
  {
   "cell_type": "markdown",
   "metadata": {},
   "source": [
    "<hr>"
   ]
  },
  {
   "cell_type": "markdown",
   "metadata": {},
   "source": [
    "You can also launch (only) some of these notebooks for interactive computation in a [binder  cloud server](https://mybinder.org/v2/gh/jayggg/ngspybinderenv.git/master?urlpath=git-pull?repo=https://github.com/jayggg/mth65123%26branch=master%26subpath=INDEX.ipynb)."
   ]
  }
 ],
 "metadata": {
  "kernelspec": {
   "display_name": "Python 3 (ipykernel)",
   "language": "python",
   "name": "python3"
  },
  "language_info": {
   "codemirror_mode": {
    "name": "ipython",
    "version": 3
   },
   "file_extension": ".py",
   "mimetype": "text/x-python",
   "name": "python",
   "nbconvert_exporter": "python",
   "pygments_lexer": "ipython3",
   "version": "3.10.1"
  },
  "latex_envs": {
   "LaTeX_envs_menu_present": true,
   "autoclose": true,
   "autocomplete": true,
   "bibliofile": "biblio.bib",
   "cite_by": "apalike",
   "current_citInitial": 1,
   "eqLabelWithNumbers": false,
   "eqNumInitial": 1,
   "hotkeys": {
    "equation": ""
   },
   "labels_anchors": false,
   "latex_user_defs": false,
   "report_style_numbering": false,
   "user_envs_cfg": false
  }
 },
 "nbformat": 4,
 "nbformat_minor": 2
}

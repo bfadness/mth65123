{
 "cells": [
  {
   "cell_type": "markdown",
   "metadata": {},
   "source": [
    "# Finite differences in 1D"
   ]
  },
  {
   "cell_type": "markdown",
   "metadata": {},
   "source": [
    "We approximate the boundary value problem consisting of the PDE\n",
    "$$\n",
    "-u''(x) + u(x) = f(x), \\qquad  0 < x < 1\n",
    "$$\n",
    "with  Dirichlet boundary conditions \n",
    "$$\n",
    "u(0) = u(1) = 0\n",
    "$$\n",
    "using finite differences. This notebook also serves as a quick introduction to python and numpy. Please see Python Resources in the syllabus for learning more about basic numerical facilities in python."
   ]
  },
  {
   "cell_type": "code",
   "execution_count": 1,
   "metadata": {},
   "outputs": [],
   "source": [
    "import numpy as np"
   ]
  },
  {
   "cell_type": "markdown",
   "metadata": {},
   "source": [
    "### Making the finite difference system\n",
    "\n",
    "The matrix of the *central second finite difference* operator on a grid of 5 equally spaced points, two of which have zero boundary conditions, can be \"made by hand\" as a `numpy` array, as follows. "
   ]
  },
  {
   "cell_type": "code",
   "execution_count": 2,
   "metadata": {},
   "outputs": [
    {
     "data": {
      "text/plain": [
       "array([[ 2, -1,  0],\n",
       "       [-1,  2, -1],\n",
       "       [ 0, -1,  2]])"
      ]
     },
     "execution_count": 2,
     "metadata": {},
     "output_type": "execute_result"
    }
   ],
   "source": [
    "A = np.array([[ 2, -1,  0], \n",
    "              [-1,  2, -1], \n",
    "              [ 0, -1,  2]])\n",
    "A"
   ]
  },
  {
   "cell_type": "markdown",
   "metadata": {},
   "source": [
    "For large number of grid points, we need an automatic way to make this matrix. Numpy provides many ways to create matrices quickly. For example, the `diag` command generates matrices with input entries in the diagonal, superdiagonals, or subdiagonals."
   ]
  },
  {
   "cell_type": "code",
   "execution_count": 3,
   "metadata": {},
   "outputs": [
    {
     "data": {
      "text/plain": [
       "array([[2., 0., 0., 0., 0., 0., 0., 0., 0., 0.],\n",
       "       [0., 2., 0., 0., 0., 0., 0., 0., 0., 0.],\n",
       "       [0., 0., 2., 0., 0., 0., 0., 0., 0., 0.],\n",
       "       [0., 0., 0., 2., 0., 0., 0., 0., 0., 0.],\n",
       "       [0., 0., 0., 0., 2., 0., 0., 0., 0., 0.],\n",
       "       [0., 0., 0., 0., 0., 2., 0., 0., 0., 0.],\n",
       "       [0., 0., 0., 0., 0., 0., 2., 0., 0., 0.],\n",
       "       [0., 0., 0., 0., 0., 0., 0., 2., 0., 0.],\n",
       "       [0., 0., 0., 0., 0., 0., 0., 0., 2., 0.],\n",
       "       [0., 0., 0., 0., 0., 0., 0., 0., 0., 2.]])"
      ]
     },
     "execution_count": 3,
     "metadata": {},
     "output_type": "execute_result"
    }
   ],
   "source": [
    "N = 10\n",
    "2 * np.diag(np.ones(N))"
   ]
  },
  {
   "cell_type": "code",
   "execution_count": 4,
   "metadata": {},
   "outputs": [
    {
     "data": {
      "text/plain": [
       "array([[ 3., -1.,  0.,  0.,  0.,  0.,  0.,  0.,  0.,  0.],\n",
       "       [-1.,  3., -1.,  0.,  0.,  0.,  0.,  0.,  0.,  0.],\n",
       "       [ 0., -1.,  3., -1.,  0.,  0.,  0.,  0.,  0.,  0.],\n",
       "       [ 0.,  0., -1.,  3., -1.,  0.,  0.,  0.,  0.,  0.],\n",
       "       [ 0.,  0.,  0., -1.,  3., -1.,  0.,  0.,  0.,  0.],\n",
       "       [ 0.,  0.,  0.,  0., -1.,  3., -1.,  0.,  0.,  0.],\n",
       "       [ 0.,  0.,  0.,  0.,  0., -1.,  3., -1.,  0.,  0.],\n",
       "       [ 0.,  0.,  0.,  0.,  0.,  0., -1.,  3., -1.,  0.],\n",
       "       [ 0.,  0.,  0.,  0.,  0.,  0.,  0., -1.,  3., -1.],\n",
       "       [ 0.,  0.,  0.,  0.,  0.,  0.,  0.,  0., -1.,  3.]])"
      ]
     },
     "execution_count": 4,
     "metadata": {},
     "output_type": "execute_result"
    }
   ],
   "source": [
    "A = 2 * np.diag(np.ones(N)) +    \\\n",
    "    np.diag(-np.ones(N-1), -1) + \\\n",
    "    np.diag(-np.ones(N-1), 1)  + \\\n",
    "    np.eye(N)\n",
    "A"
   ]
  },
  {
   "cell_type": "markdown",
   "metadata": {},
   "source": [
    "### Solving the difference equation system\n",
    "\n",
    "We solve the finite difference equations using the built-in inverse routine in numpy's `linalg` submodule. Note how we create functions using `def` in python and how we use `@` for numpy matrix multiply."
   ]
  },
  {
   "cell_type": "code",
   "execution_count": 5,
   "metadata": {},
   "outputs": [],
   "source": [
    "def solve(f, h):\n",
    "    size = len(f)\n",
    "    A = (1/h**2) * (2 * np.diag(np.ones(size))    + \\\n",
    "                    np.diag(-np.ones(size-1), -1) + \n",
    "                    np.diag(-np.ones(size-1), 1)) + np.eye(size)\n",
    "    return np.linalg.inv(A) @ f"
   ]
  },
  {
   "cell_type": "markdown",
   "metadata": {},
   "source": [
    "### Check for correctness"
   ]
  },
  {
   "cell_type": "markdown",
   "metadata": {},
   "source": [
    "We will verify that the `solve` function is solving as expected by the *method of manufactured solutions*, which is a trivial method: pick your favorite solution function $u$ satisfying the boundary conditions,  then generate the right hand side $f$ by applying the differential operator to $u$. In the check below, I will use\n",
    "$$\n",
    "u = \\sin(x)\n",
    "$$\n",
    "on an interval $(0, 3\\pi)$ so that the zero boundary conditions hold. Then put $f = -u'' + u = 2\\sin(x)$. Let's provide this $f$ to `solve` and see whether it outputs an approximation to $u = \\sin(x)$."
   ]
  },
  {
   "cell_type": "markdown",
   "metadata": {},
   "source": [
    "An equally spaced grid in an interval is easily made using the `linspace` facility."
   ]
  },
  {
   "cell_type": "code",
   "execution_count": 6,
   "metadata": {},
   "outputs": [
    {
     "data": {
      "text/plain": [
       "array([0.        , 1.04719755, 2.0943951 , 3.14159265, 4.1887902 ,\n",
       "       5.23598776, 6.28318531, 7.33038286, 8.37758041, 9.42477796])"
      ]
     },
     "execution_count": 6,
     "metadata": {},
     "output_type": "execute_result"
    }
   ],
   "source": [
    "np.linspace(0, 3*np.pi, num=10)"
   ]
  },
  {
   "cell_type": "markdown",
   "metadata": {},
   "source": [
    "Let's make the data $f$ for the manufactured solution $u=\\sin(x)$."
   ]
  },
  {
   "cell_type": "code",
   "execution_count": 7,
   "metadata": {},
   "outputs": [],
   "source": [
    "N = 30    # the system becomes more expensive to solve for large N\n",
    "h = 3*np.pi / N\n",
    "x = np.linspace(0, 3*np.pi, num=N)\n",
    "f = 2 * np.sin(x)"
   ]
  },
  {
   "cell_type": "markdown",
   "metadata": {},
   "source": [
    "When we solve, we make sure not to give the end point values in `f` (as the solution there is already determined by the boundary conditions).  Restricting $f$ outside of these points is done by *slicing* in numpy (which you should definitely learn if you don't know already) as in `f[1:-1]`."
   ]
  },
  {
   "cell_type": "code",
   "execution_count": 8,
   "metadata": {},
   "outputs": [],
   "source": [
    "u = solve(f[1:-1], h)"
   ]
  },
  {
   "cell_type": "markdown",
   "metadata": {},
   "source": [
    "For visualizing the solution, we use `matplotlib` module."
   ]
  },
  {
   "cell_type": "code",
   "execution_count": 9,
   "metadata": {},
   "outputs": [],
   "source": [
    "import matplotlib.pyplot as plt"
   ]
  },
  {
   "cell_type": "code",
   "execution_count": 10,
   "metadata": {},
   "outputs": [
    {
     "data": {
      "text/plain": [
       "[<matplotlib.lines.Line2D at 0x1134edc40>]"
      ]
     },
     "execution_count": 10,
     "metadata": {},
     "output_type": "execute_result"
    },
    {
     "data": {
      "image/png": "[encoded data removed]",
      "text/plain": [
       "<Figure size 432x288 with 1 Axes>"
      ]
     },
     "metadata": {
      "needs_background": "light"
     },
     "output_type": "display_data"
    }
   ],
   "source": [
    "plt.plot(u, '.-')"
   ]
  },
  {
   "cell_type": "markdown",
   "metadata": {},
   "source": [
    "How can you make sure the end points with zero solution values  are also included in the final plot? Again by slicing: "
   ]
  },
  {
   "cell_type": "code",
   "execution_count": 11,
   "metadata": {},
   "outputs": [],
   "source": [
    "uu = np.zeros(N)\n",
    "uu[1:-1] = u"
   ]
  },
  {
   "cell_type": "markdown",
   "metadata": {},
   "source": [
    "Let's conclude by comparing the exact solution with the numerical solution by plotting both in the same scene. "
   ]
  },
  {
   "cell_type": "code",
   "execution_count": 12,
   "metadata": {},
   "outputs": [
    {
     "data": {
      "image/png": "[encoded data removed]",
      "text/plain": [
       "<Figure size 432x288 with 1 Axes>"
      ]
     },
     "metadata": {
      "needs_background": "light"
     },
     "output_type": "display_data"
    }
   ],
   "source": [
    "plt.plot(uu, '.', label='computed solution')\n",
    "plt.plot(np.sin(x), ':', label='exact solution', alpha=0.5)\n",
    "plt.grid(True)\n",
    "plt.legend();"
   ]
  },
  {
   "cell_type": "markdown",
   "metadata": {},
   "source": [
    "Clearly, the `solve` function captured something close to the exact solution."
   ]
  }
 ],
 "metadata": {
  "kernelspec": {
   "display_name": "Python 3",
   "language": "python",
   "name": "python3"
  },
  "language_info": {
   "codemirror_mode": {
    "name": "ipython",
    "version": 3
   },
   "file_extension": ".py",
   "mimetype": "text/x-python",
   "name": "python",
   "nbconvert_exporter": "python",
   "pygments_lexer": "ipython3",
   "version": "3.8.0"
  }
 },
 "nbformat": 4,
 "nbformat_minor": 2
}

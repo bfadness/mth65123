{
 "cells": [
  {
   "cell_type": "markdown",
   "metadata": {},
   "source": [
    "# Higher orders of approximation\n",
    "\n",
    "\n",
    "In this notebook, we see how the use of higher degree polynomials within mesh elements results in higher orders of accuracy when approximating smooth functions. This is the primary reason for going beyond the lowest order Lagrange finite element space."
   ]
  },
  {
   "cell_type": "markdown",
   "metadata": {},
   "source": [
    "Consider the **degree $p$ Lagrange finite element space**\n",
    "$\n",
    "V_h^p = \\{ v: v $ is continuous and $\n",
    "v|_K $ is a polynomial of degree $\\le p$\n",
    "on each mesh element $K\\}.$ In later lectures, we will prove the Bramble-Hilbert Lemma and its  corollary \n",
    "$$\n",
    "\\inf_{v_h \\in V_h^p} \\| u - v_h\\|_{H^1(\\Omega)}\n",
    "\\le C h^\\ell \\| u\\|_{H^{\\ell+1}(\\Omega)}\n",
    "$$\n",
    "for $0\\le \\ell \\le p$ where $h$ is the maximal element diameter and $C$ is a constant independent of $h$ (element sizes) but  dependent on the *shapes of the elements* (or angles) in the mesh. Note that the $u$ must be regular enough for the above estimate to hold (namely, the derivatives of $u$ of order upto $\\ell+1$ must be square integrable). Thus when $u$ is smooth, we should be able to see up to $O(h^p)$-rate of approximation in the $H^1(\\Omega)$ norm for the best approximation error. "
   ]
  },
  {
   "cell_type": "markdown",
   "metadata": {},
   "source": [
    "## Elliptic projection "
   ]
  },
  {
   "cell_type": "markdown",
   "metadata": {},
   "source": [
    "Let $P_h : H^1(\\Omega) \\to V_h^p$ denote the orthogonal projector into $V_h^p$ in the $(\\cdot, \\cdot)_{H^1(\\Omega)}$ innerproduct.\n",
    "Since \n",
    "$$\n",
    "\\inf_{v_h \\in V_h^p} \\| u - v_h\\|_{H^1(\\Omega)}\n",
    " =  \\| u - P_h u \\|_{H^1(\\Omega)},\n",
    "$$\n",
    "we can study the above infimum, or  the $H^1(\\Omega)$ **best approximation error**  (the $H^1(\\Omega)$ **BAE**), \n",
    "by studying the numerical convergence of $u - P_h u$  in the $H^1(\\Omega)$-norm.\n",
    "\n",
    "\n",
    "From the properties of orthogonal projections, we immediately see that $P_h u$ is the unique function in \n",
    "$V_h^p$ satisfying \n",
    "$$\n",
    "\\langle{P_h u, v_h\\rangle}_{H^1(\\Omega)} = \n",
    "\\langle{u, v_h\\rangle}_{H^1(\\Omega)} \n",
    "$$\n",
    "for all $v_h \\in V_h^p$, where $\\langle{\\cdot, \\cdot\\rangle}_{H^1(\\Omega)} $ denotes the inner product of $H^1(\\Omega)$, \n",
    " or equivalently, \n",
    " \n",
    "$$\n",
    "\\int_\\Omega \\nabla(P_h u) \\cdot \\nabla v_h + P_h u \\; v_h\n",
    "=\n",
    "\\int_\\Omega \\nabla u \\cdot \\nabla v_h + u \\, v_h.\n",
    "$$\n",
    "\n",
    "This equation for $P_h u$ is solved in the next function, designed using the same type of code you have seen in the previous tutorials. (Projections like $P_h u$ are sometimes called elliptic projections as they are solutions of elliptic PDEs.)"
   ]
  },
  {
   "cell_type": "code",
   "execution_count": null,
   "metadata": {},
   "outputs": [],
   "source": [
    "from ngsolve import grad, dx, CF\n",
    "\n",
    "def Project(u, V):\n",
    "    \"\"\"\n",
    "    Input: u as a CF.\n",
    "    Output: H^1-projection P_h u as a GF.\n",
    "    \"\"\"    \n",
    "    gradu = CF((u.Diff(x), u.Diff(y)))\n",
    "    Pu = ng.GridFunction(V)\n",
    "    w, v = V.TnT()\n",
    "    a = ng.BilinearForm(grad(w)*grad(v)*dx + w*v*dx, symmetric=True)\n",
    "    b = ng.LinearForm(gradu*grad(v)*dx + u*v*dx)\n",
    "    \n",
    "    with ng.TaskManager():  # Exploit task parallelism if possible\n",
    "        a.Assemble()\n",
    "        b.Assemble()\n",
    "        Pu.vec.data = a.mat.Inverse(inverse='sparsecholesky') * b.vec\n",
    "    return Pu"
   ]
  },
  {
   "cell_type": "markdown",
   "metadata": {},
   "source": [
    "## Successive mesh refinements"
   ]
  },
  {
   "cell_type": "markdown",
   "metadata": {},
   "source": [
    "Studying the BAE over a collection of meshes is simplified if element *shapes* (not sizes) do not vary too much over the collection. A sequence of meshes where the element angles never change from  those of the initial mesh is obtained by a simple *uniform refinement*. This is illustrated in the sequence of mesh images below."
   ]
  },
  {
   "cell_type": "code",
   "execution_count": null,
   "metadata": {
    "scrolled": true
   },
   "outputs": [],
   "source": [
    "import ngsolve as ng\n",
    "ng.ngsglobals.msg_level=2\n",
    "from netgen.geom2d import unit_square\n",
    "from ngsolve.webgui import Draw\n",
    "mesh = ng.Mesh(unit_square.GenerateMesh(maxh=0.3))\n",
    "Draw(mesh)"
   ]
  },
  {
   "cell_type": "code",
   "execution_count": null,
   "metadata": {
    "scrolled": false
   },
   "outputs": [],
   "source": [
    "mesh.ngmesh.Refine(); Draw(mesh);"
   ]
  },
  {
   "cell_type": "code",
   "execution_count": null,
   "metadata": {},
   "outputs": [],
   "source": [
    "mesh.ngmesh.Refine(); Draw(mesh);"
   ]
  },
  {
   "cell_type": "markdown",
   "metadata": {},
   "source": [
    "Note that this uniform refinement process, when started on any coarse mesh, does not generate any new angles within the new elements, i.e., each triangular element of this infinite sequence  of meshes is similar (in the geometric sense) to one of the triangles in the initial coarse mesh. "
   ]
  },
  {
   "cell_type": "markdown",
   "metadata": {},
   "source": [
    "## BAE on uniform refinements"
   ]
  },
  {
   "cell_type": "markdown",
   "metadata": {},
   "source": [
    "We compute the elliptic projection on a sequence of uniform refinements, starting from a very corase mesh,  using the function below."
   ]
  },
  {
   "cell_type": "code",
   "execution_count": null,
   "metadata": {},
   "outputs": [],
   "source": [
    "from ngsolve import Mesh, InnerProduct, Integrate, sqrt\n",
    "import numpy as np\n",
    "\n",
    "\n",
    "def ProjectOnSuccessiveRefinements(u, p=1, hcoarse=1, nrefinements=6):\n",
    "    \"\"\" Solve the projection problem on a sequence of succesively\n",
    "    refined meshes. \"\"\"\n",
    "    \n",
    "    Pus = []; errors = []; meshes = []; ndofs = []\n",
    "    mesh = ng.Mesh(unit_square.GenerateMesh(maxh=hcoarse))\n",
    "    gradu = CF((u.Diff(x), u.Diff(y)))\n",
    "    \n",
    "    for ref in range(nrefinements): \n",
    "        V = ng.H1(mesh, order=p)\n",
    "\n",
    "        Pu = Project(u, V) \n",
    "        \n",
    "        sqrerr = (Pu - u)**2 + (grad(Pu) - gradu)**2\n",
    "\n",
    "        Pus.append(Pu) \n",
    "        errors.append(sqrt(Integrate(sqrerr, mesh)))\n",
    "        meshes.append(ng.Mesh(mesh.ngmesh.Copy()))\n",
    "        ndofs.append(V.ndof)\n",
    "        \n",
    "        mesh.ngmesh.Refine()\n",
    "\n",
    "    return Pus, np.array(errors), ndofs, meshes"
   ]
  },
  {
   "cell_type": "markdown",
   "metadata": {},
   "source": [
    "We will select an infinitely smooth function $u$ for the initial experiments (and you will experiment with less regular functions in exercises). We select a smooth $u$ with some oscillations  (as otherwise the approximation errors rapidly become too close to machine precision)."
   ]
  },
  {
   "cell_type": "code",
   "execution_count": null,
   "metadata": {},
   "outputs": [],
   "source": [
    "from ngsolve import cos, x, y\n",
    "\n",
    "u = cos(10*x*y)"
   ]
  },
  {
   "cell_type": "markdown",
   "metadata": {},
   "source": [
    "We compute its BAE in the lowest order Lagrange finite element space for uniform refinements by invoking the above function. "
   ]
  },
  {
   "cell_type": "code",
   "execution_count": null,
   "metadata": {},
   "outputs": [],
   "source": [
    "Pus, es, ns, _ = ProjectOnSuccessiveRefinements(u, p=1, nrefinements=8)\n",
    "errors = {1: es}; ndofs = {1: ns}\n",
    "es"
   ]
  },
  {
   "cell_type": "markdown",
   "metadata": {},
   "source": [
    "Clearly this sequence of errors are decreasing, approximately halving at each step."
   ]
  },
  {
   "cell_type": "markdown",
   "metadata": {},
   "source": [
    "## Estimate rate of convergence "
   ]
  },
  {
   "cell_type": "markdown",
   "metadata": {},
   "source": [
    "We want to estimate at what rate the errors on successive refinements, stored in the list `es`, go to zero.  Let $e_i$ denote the $i$th element of the list.\n",
    "\n",
    "\n",
    "Specifically, what we would like to determine is the number $r$, the **rate of covergence**, such that the errors are bounded by $O(h^r).$\n",
    "If the sequence $e_i$ goes to zero like $O(h_i^r)$, then  since \n",
    "$$\n",
    "h_i = \\frac{h_0}{2^i}\n",
    "$$ \n",
    "we should see $e_{i+1} / e_i  \\sim O(2^{-r})$. Hence to estimate $r$, we compute \n",
    "$$\n",
    "\\log_2 \\frac{e_{i+1}}{ e_i}.\n",
    "$$\n",
    "These logarithms are computed and tabulated together with the error numbers using the formatting function below."
   ]
  },
  {
   "cell_type": "code",
   "execution_count": null,
   "metadata": {},
   "outputs": [],
   "source": [
    "from prettytable import PrettyTable\n",
    "\n",
    "def tabrate(name, dat, h0=1):\n",
    "    \"\"\"Inputs: \n",
    "        name = Name for second (error norm) column, \n",
    "        dat = list of error data on successive refinements\n",
    "        log2h0inv = log2(1/h0), where h0 is coarsest meshsize.\n",
    "    \"\"\"\n",
    "    col = ['h', name, 'rate']\n",
    "    t = PrettyTable()\n",
    "    h0col = ['%g'%h0]\n",
    "    t.add_column(col[0], h0col + [h0col[0] + '/' + str(2**i) \n",
    "                                  for i in range(1, len(dat))])\n",
    "    t.add_column(col[1], ['%.8f'%e for e in dat])\n",
    "    t.add_column(col[2], ['*'] + \\\n",
    "                 ['%1.2f' % r \n",
    "                  for r in np.log(dat[:-1]/dat[1:])/np.log(2)])\n",
    "    print(t)"
   ]
  },
  {
   "cell_type": "markdown",
   "metadata": {},
   "source": [
    "#### $p=1$ case"
   ]
  },
  {
   "cell_type": "code",
   "execution_count": null,
   "metadata": {},
   "outputs": [],
   "source": [
    "tabrate('H1norm(Pu-u)', es)"
   ]
  },
  {
   "cell_type": "markdown",
   "metadata": {},
   "source": [
    "#### $p=2$ case"
   ]
  },
  {
   "cell_type": "code",
   "execution_count": null,
   "metadata": {},
   "outputs": [],
   "source": [
    "Pus, es, ns, _ = ProjectOnSuccessiveRefinements(u, p=2, nrefinements=7)\n",
    "errors[2] = es; ndofs[2] = ns\n",
    "tabrate('H1norm(Pu-u)', es)"
   ]
  },
  {
   "cell_type": "markdown",
   "metadata": {},
   "source": [
    "#### $p=3$ case"
   ]
  },
  {
   "cell_type": "code",
   "execution_count": null,
   "metadata": {},
   "outputs": [],
   "source": [
    "Pus, es, ns, _ = ProjectOnSuccessiveRefinements(u, p=3)\n",
    "errors[3] = es; ndofs[3] = ns\n",
    "tabrate('H1norm(Pu-u)', es)"
   ]
  },
  {
   "cell_type": "markdown",
   "metadata": {},
   "source": [
    "#### $p=4$ case "
   ]
  },
  {
   "cell_type": "code",
   "execution_count": null,
   "metadata": {},
   "outputs": [],
   "source": [
    "Pus, es, ns, _ = ProjectOnSuccessiveRefinements(u, p=4)\n",
    "errors[4] = es; ndofs[4] = ns\n",
    "tabrate('H1norm(Pu-u)', es)"
   ]
  },
  {
   "cell_type": "markdown",
   "metadata": {},
   "source": [
    "#### $p=5$ case"
   ]
  },
  {
   "cell_type": "code",
   "execution_count": null,
   "metadata": {},
   "outputs": [],
   "source": [
    "Pus, es, ns, _ = ProjectOnSuccessiveRefinements(u, p=5)\n",
    "errors[5] = es; ndofs[5] = ns\n",
    "tabrate('H1norm(Pu-u)', es)"
   ]
  },
  {
   "cell_type": "markdown",
   "metadata": {},
   "source": [
    "## Accuracy vs. degrees of freedom"
   ]
  },
  {
   "cell_type": "markdown",
   "metadata": {},
   "source": [
    "During the above computations, we have also stored $\\dim(V_h^p)$, or the **number of degrees of freedom**. This is useful when trying to gauge how much bang for the buck we obtain when using various meshes and various orders $p$."
   ]
  },
  {
   "cell_type": "code",
   "execution_count": null,
   "metadata": {},
   "outputs": [],
   "source": [
    "import matplotlib.pyplot as plt\n",
    "%matplotlib inline \n",
    "\n",
    "for p in range(1, 6):\n",
    "    plt.loglog(ndofs[p], errors[p], '.-', label='p=%d'%p)\n",
    "\n",
    "plt.xlabel('Degrees of Freedom')\n",
    "plt.ylabel('$H^1$ best approximation error'); plt.legend();"
   ]
  },
  {
   "cell_type": "markdown",
   "metadata": {},
   "source": [
    "We see from these results that for the smooth `u` under consideration,  the accuracy of its best approximation, measured *per* degree of freedom increases (quite dramatically) when using higher $p$."
   ]
  },
  {
   "cell_type": "markdown",
   "metadata": {},
   "source": [
    "<hr>"
   ]
  },
  {
   "cell_type": "markdown",
   "metadata": {},
   "source": [
    "### Exercise\n",
    "\n",
    "Modify the above computations to determine the rate of convergence of the $L^2(\\Omega)$ BAE \n",
    "$$\n",
    "\\inf_{v_h \\in V_h^p} \\| u - v_h\\|_{L^2(\\Omega)}\n",
    "$$\n",
    "(i.e., keeping the same spaces, meshes and degrees, but changing the norm in which the error is measured)."
   ]
  },
  {
   "cell_type": "markdown",
   "metadata": {},
   "source": [
    "### Exercise \n",
    "\n",
    "Prove that \n",
    "$$\n",
    "\\text{dim}(V_h^p) = n_V + (p-1) n_E + \\frac 1 2 (p-1) (p-2) n_K\n",
    "$$\n",
    "where $n_V, n_E,$ and $n_K$ denote the number of vertices, edges, and triangles of the mesh. \n",
    "\n",
    "This dimension for the meshes and the $p$-values we used in the above computations are in  `ndofs`, if you think it is illustrative to compare it with the above formula:"
   ]
  },
  {
   "cell_type": "code",
   "execution_count": null,
   "metadata": {},
   "outputs": [],
   "source": [
    "ndofs"
   ]
  },
  {
   "cell_type": "markdown",
   "metadata": {},
   "source": [
    "### Exercise\n",
    "\n",
    "Let $\\Omega$ be the L-shaped domain shown:"
   ]
  },
  {
   "cell_type": "code",
   "execution_count": null,
   "metadata": {},
   "outputs": [],
   "source": [
    "#  (-1,1)                       (1,1)\n",
    "#       +----------------------+  \n",
    "#       |                      |\n",
    "#       |                      | \n",
    "#       |        (0,0)         |\n",
    "#       |           +----------+ (1,0)\n",
    "#       |           |     \n",
    "#       |           | \n",
    "#       |           |\n",
    "#       +-----------+\n",
    "#  (-1,-1)       (0,-1)"
   ]
  },
  {
   "cell_type": "markdown",
   "metadata": {},
   "source": [
    "Compute the rates of convergence of $H^1(\\Omega)$ BAE and $L^2(\\Omega)$ BAE, for various degrees $p$, for the following two functions expressed in polar coordinates $r = \\sqrt{x^2 +y^2}$, $\\varphi=\\tan^{-1}(y/x)$ on the above domain:\n",
    "$$\n",
    "u = r^2 \\sin(2\\varphi/3)\n",
    "$$\n",
    "and \n",
    "$$\n",
    "u = r^{2/3} \\sin(2\\varphi/3).\n",
    "$$\n",
    "(Be careful to not get into trouble with the branch cut of arctan while setting $\\varphi$ in your computations.)\n"
   ]
  },
  {
   "cell_type": "markdown",
   "metadata": {},
   "source": [
    "<hr>"
   ]
  },
  {
   "cell_type": "markdown",
   "metadata": {},
   "source": [
    "## Postscript\n",
    "\n",
    "Did you get the message from the exercises on how regularity influences convergence rates? \n",
    "Here is a poem from the 1978 Finite Element Circus that will reinforce the message.\n",
    "\n",
    "> There once was a fellow named Dare. <br>\n",
    "> Who approximated PDEs with great care. <br>\n",
    "> But the solutions were rough <br>\n",
    "> And the problems were tough, <br>\n",
    "> So he only got $O(h^2).$"
   ]
  }
 ],
 "metadata": {
  "kernelspec": {
   "display_name": "Python 3 (ipykernel)",
   "language": "python",
   "name": "python3"
  },
  "language_info": {
   "codemirror_mode": {
    "name": "ipython",
    "version": 3
   },
   "file_extension": ".py",
   "mimetype": "text/x-python",
   "name": "python",
   "nbconvert_exporter": "python",
   "pygments_lexer": "ipython3",
   "version": "3.9.6"
  },
  "latex_envs": {
   "LaTeX_envs_menu_present": true,
   "autoclose": true,
   "autocomplete": true,
   "bibliofile": "biblio.bib",
   "cite_by": "apalike",
   "current_citInitial": 1,
   "eqLabelWithNumbers": false,
   "eqNumInitial": 1,
   "hotkeys": {
    "equation": ""
   },
   "labels_anchors": false,
   "latex_user_defs": false,
   "report_style_numbering": false,
   "user_envs_cfg": false
  }
 },
 "nbformat": 4,
 "nbformat_minor": 2
}
